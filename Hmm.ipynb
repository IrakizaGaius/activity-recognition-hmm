{
  "cells": [
    {
      "cell_type": "markdown",
      "metadata": {
        "id": "view-in-github",
        "colab_type": "text"
      },
      "source": [
        "<a href=\"https://colab.research.google.com/github/IrakizaGaius/activity-recognition-hmm/blob/main/Hmm.ipynb\" target=\"_parent\"><img src=\"https://colab.research.google.com/assets/colab-badge.svg\" alt=\"Open In Colab\"/></a>"
      ]
    },
    {
      "cell_type": "markdown",
      "metadata": {
        "id": "UBfFaDvg4nmq"
      },
      "source": [
        "# Install necessary Dependencies"
      ]
    },
    {
      "cell_type": "code",
      "execution_count": 1,
      "metadata": {
        "colab": {
          "base_uri": "https://localhost:8080/"
        },
        "id": "MABkB1S84nmt",
        "outputId": "116fcab5-04cf-4cc7-93b1-5740471b8605"
      },
      "outputs": [
        {
          "output_type": "stream",
          "name": "stdout",
          "text": [
            "Collecting hmmlearn\n",
            "  Downloading hmmlearn-0.3.3-cp312-cp312-manylinux_2_17_x86_64.manylinux2014_x86_64.whl.metadata (3.0 kB)\n",
            "Requirement already satisfied: numpy>=1.10 in /usr/local/lib/python3.12/dist-packages (from hmmlearn) (2.0.2)\n",
            "Requirement already satisfied: scikit-learn!=0.22.0,>=0.16 in /usr/local/lib/python3.12/dist-packages (from hmmlearn) (1.6.1)\n",
            "Requirement already satisfied: scipy>=0.19 in /usr/local/lib/python3.12/dist-packages (from hmmlearn) (1.16.2)\n",
            "Requirement already satisfied: joblib>=1.2.0 in /usr/local/lib/python3.12/dist-packages (from scikit-learn!=0.22.0,>=0.16->hmmlearn) (1.5.2)\n",
            "Requirement already satisfied: threadpoolctl>=3.1.0 in /usr/local/lib/python3.12/dist-packages (from scikit-learn!=0.22.0,>=0.16->hmmlearn) (3.6.0)\n",
            "Downloading hmmlearn-0.3.3-cp312-cp312-manylinux_2_17_x86_64.manylinux2014_x86_64.whl (165 kB)\n",
            "\u001b[2K   \u001b[90m━━━━━━━━━━━━━━━━━━━━━━━━━━━━━━━━━━━━━━━━\u001b[0m \u001b[32m166.0/166.0 kB\u001b[0m \u001b[31m4.4 MB/s\u001b[0m eta \u001b[36m0:00:00\u001b[0m\n",
            "\u001b[?25hInstalling collected packages: hmmlearn\n",
            "Successfully installed hmmlearn-0.3.3\n"
          ]
        }
      ],
      "source": []
    },
    {
      "cell_type": "markdown",
      "metadata": {
        "id": "ZWisomxG4nmv"
      },
      "source": [
        "# Importing All the neccessary Dependencies"
      ]
    },
    {
      "cell_type": "code",
      "execution_count": 2,
      "metadata": {
        "id": "81ydjPB_4nmw"
      },
      "outputs": [],
      "source": [
        "\n"
      ]
    },
    {
      "cell_type": "markdown",
      "metadata": {
        "id": "0ByCY0ci4nmw"
      },
      "source": [
        "#Load and unzip activity data files"
      ]
    },
    {
      "cell_type": "code",
      "source": [
        "from google.colab import files\n",
        "uploaded = files.upload()\n"
      ],
      "metadata": {
        "colab": {
          "base_uri": "https://localhost:8080/",
          "height": 73
        },
        "id": "LMEUUgw96WIf",
        "outputId": "606f24fe-eaf2-4a4c-eba9-8610513ae2c5"
      },
      "execution_count": 7,
      "outputs": [
        {
          "output_type": "display_data",
          "data": {
            "text/plain": [
              "<IPython.core.display.HTML object>"
            ],
            "text/html": [
              "\n",
              "     <input type=\"file\" id=\"files-3ed33f8a-0a92-4dd7-a937-ab43bbcab344\" name=\"files[]\" multiple disabled\n",
              "        style=\"border:none\" />\n",
              "     <output id=\"result-3ed33f8a-0a92-4dd7-a937-ab43bbcab344\">\n",
              "      Upload widget is only available when the cell has been executed in the\n",
              "      current browser session. Please rerun this cell to enable.\n",
              "      </output>\n",
              "      <script>// Copyright 2017 Google LLC\n",
              "//\n",
              "// Licensed under the Apache License, Version 2.0 (the \"License\");\n",
              "// you may not use this file except in compliance with the License.\n",
              "// You may obtain a copy of the License at\n",
              "//\n",
              "//      http://www.apache.org/licenses/LICENSE-2.0\n",
              "//\n",
              "// Unless required by applicable law or agreed to in writing, software\n",
              "// distributed under the License is distributed on an \"AS IS\" BASIS,\n",
              "// WITHOUT WARRANTIES OR CONDITIONS OF ANY KIND, either express or implied.\n",
              "// See the License for the specific language governing permissions and\n",
              "// limitations under the License.\n",
              "\n",
              "/**\n",
              " * @fileoverview Helpers for google.colab Python module.\n",
              " */\n",
              "(function(scope) {\n",
              "function span(text, styleAttributes = {}) {\n",
              "  const element = document.createElement('span');\n",
              "  element.textContent = text;\n",
              "  for (const key of Object.keys(styleAttributes)) {\n",
              "    element.style[key] = styleAttributes[key];\n",
              "  }\n",
              "  return element;\n",
              "}\n",
              "\n",
              "// Max number of bytes which will be uploaded at a time.\n",
              "const MAX_PAYLOAD_SIZE = 100 * 1024;\n",
              "\n",
              "function _uploadFiles(inputId, outputId) {\n",
              "  const steps = uploadFilesStep(inputId, outputId);\n",
              "  const outputElement = document.getElementById(outputId);\n",
              "  // Cache steps on the outputElement to make it available for the next call\n",
              "  // to uploadFilesContinue from Python.\n",
              "  outputElement.steps = steps;\n",
              "\n",
              "  return _uploadFilesContinue(outputId);\n",
              "}\n",
              "\n",
              "// This is roughly an async generator (not supported in the browser yet),\n",
              "// where there are multiple asynchronous steps and the Python side is going\n",
              "// to poll for completion of each step.\n",
              "// This uses a Promise to block the python side on completion of each step,\n",
              "// then passes the result of the previous step as the input to the next step.\n",
              "function _uploadFilesContinue(outputId) {\n",
              "  const outputElement = document.getElementById(outputId);\n",
              "  const steps = outputElement.steps;\n",
              "\n",
              "  const next = steps.next(outputElement.lastPromiseValue);\n",
              "  return Promise.resolve(next.value.promise).then((value) => {\n",
              "    // Cache the last promise value to make it available to the next\n",
              "    // step of the generator.\n",
              "    outputElement.lastPromiseValue = value;\n",
              "    return next.value.response;\n",
              "  });\n",
              "}\n",
              "\n",
              "/**\n",
              " * Generator function which is called between each async step of the upload\n",
              " * process.\n",
              " * @param {string} inputId Element ID of the input file picker element.\n",
              " * @param {string} outputId Element ID of the output display.\n",
              " * @return {!Iterable<!Object>} Iterable of next steps.\n",
              " */\n",
              "function* uploadFilesStep(inputId, outputId) {\n",
              "  const inputElement = document.getElementById(inputId);\n",
              "  inputElement.disabled = false;\n",
              "\n",
              "  const outputElement = document.getElementById(outputId);\n",
              "  outputElement.innerHTML = '';\n",
              "\n",
              "  const pickedPromise = new Promise((resolve) => {\n",
              "    inputElement.addEventListener('change', (e) => {\n",
              "      resolve(e.target.files);\n",
              "    });\n",
              "  });\n",
              "\n",
              "  const cancel = document.createElement('button');\n",
              "  inputElement.parentElement.appendChild(cancel);\n",
              "  cancel.textContent = 'Cancel upload';\n",
              "  const cancelPromise = new Promise((resolve) => {\n",
              "    cancel.onclick = () => {\n",
              "      resolve(null);\n",
              "    };\n",
              "  });\n",
              "\n",
              "  // Wait for the user to pick the files.\n",
              "  const files = yield {\n",
              "    promise: Promise.race([pickedPromise, cancelPromise]),\n",
              "    response: {\n",
              "      action: 'starting',\n",
              "    }\n",
              "  };\n",
              "\n",
              "  cancel.remove();\n",
              "\n",
              "  // Disable the input element since further picks are not allowed.\n",
              "  inputElement.disabled = true;\n",
              "\n",
              "  if (!files) {\n",
              "    return {\n",
              "      response: {\n",
              "        action: 'complete',\n",
              "      }\n",
              "    };\n",
              "  }\n",
              "\n",
              "  for (const file of files) {\n",
              "    const li = document.createElement('li');\n",
              "    li.append(span(file.name, {fontWeight: 'bold'}));\n",
              "    li.append(span(\n",
              "        `(${file.type || 'n/a'}) - ${file.size} bytes, ` +\n",
              "        `last modified: ${\n",
              "            file.lastModifiedDate ? file.lastModifiedDate.toLocaleDateString() :\n",
              "                                    'n/a'} - `));\n",
              "    const percent = span('0% done');\n",
              "    li.appendChild(percent);\n",
              "\n",
              "    outputElement.appendChild(li);\n",
              "\n",
              "    const fileDataPromise = new Promise((resolve) => {\n",
              "      const reader = new FileReader();\n",
              "      reader.onload = (e) => {\n",
              "        resolve(e.target.result);\n",
              "      };\n",
              "      reader.readAsArrayBuffer(file);\n",
              "    });\n",
              "    // Wait for the data to be ready.\n",
              "    let fileData = yield {\n",
              "      promise: fileDataPromise,\n",
              "      response: {\n",
              "        action: 'continue',\n",
              "      }\n",
              "    };\n",
              "\n",
              "    // Use a chunked sending to avoid message size limits. See b/62115660.\n",
              "    let position = 0;\n",
              "    do {\n",
              "      const length = Math.min(fileData.byteLength - position, MAX_PAYLOAD_SIZE);\n",
              "      const chunk = new Uint8Array(fileData, position, length);\n",
              "      position += length;\n",
              "\n",
              "      const base64 = btoa(String.fromCharCode.apply(null, chunk));\n",
              "      yield {\n",
              "        response: {\n",
              "          action: 'append',\n",
              "          file: file.name,\n",
              "          data: base64,\n",
              "        },\n",
              "      };\n",
              "\n",
              "      let percentDone = fileData.byteLength === 0 ?\n",
              "          100 :\n",
              "          Math.round((position / fileData.byteLength) * 100);\n",
              "      percent.textContent = `${percentDone}% done`;\n",
              "\n",
              "    } while (position < fileData.byteLength);\n",
              "  }\n",
              "\n",
              "  // All done.\n",
              "  yield {\n",
              "    response: {\n",
              "      action: 'complete',\n",
              "    }\n",
              "  };\n",
              "}\n",
              "\n",
              "scope.google = scope.google || {};\n",
              "scope.google.colab = scope.google.colab || {};\n",
              "scope.google.colab._files = {\n",
              "  _uploadFiles,\n",
              "  _uploadFilesContinue,\n",
              "};\n",
              "})(self);\n",
              "</script> "
            ]
          },
          "metadata": {}
        },
        {
          "output_type": "stream",
          "name": "stdout",
          "text": [
            "Saving Activity_Data-20251028T081807Z-1-001.zip to Activity_Data-20251028T081807Z-1-001.zip\n"
          ]
        }
      ]
    },
    {
      "cell_type": "code",
      "source": [
        "!unzip Activity_Data.zip"
      ],
      "metadata": {
        "colab": {
          "base_uri": "https://localhost:8080/"
        },
        "id": "qZ-91RlK6bxG",
        "outputId": "b39058a2-ae7e-454a-e730-9dcb9309f9ff"
      },
      "execution_count": 13,
      "outputs": [
        {
          "output_type": "stream",
          "name": "stdout",
          "text": [
            "Archive:  Activity_Data.zip\n",
            "  inflating: Activity_Data/Standing/Standing_Gyroscope_combined.csv  \n",
            "  inflating: Activity_Data/Walking/Walking_Gyroscope_combined.csv  \n",
            "  inflating: Activity_Data/Walking/Walking_Accelerometer_combined.csv  \n",
            "  inflating: Activity_Data/Still/Still_Gyroscope_combined.csv  \n",
            "  inflating: Activity_Data/Still/Still_Accelerometer_combined.csv  \n",
            "  inflating: Activity_Data/Jumping/Jumping_Accelerometer_combined.csv  \n",
            "  inflating: Activity_Data/Jumping/Jumping_Gyroscope_combined.csv  \n",
            "  inflating: Activity_Data/Standing/Standing_Accelerometer_combined.csv  \n"
          ]
        }
      ]
    },
    {
      "cell_type": "markdown",
      "source": [
        "# Feature Extraction Configs"
      ],
      "metadata": {
        "id": "d1AV0y_O-Jm9"
      }
    },
    {
      "cell_type": "code",
      "execution_count": 14,
      "metadata": {
        "id": "UwHqE97p4nmx"
      },
      "outputs": [],
      "source": [
        "base_dir = 'Activity_Data'\n",
        "activities = ['Jumping', 'Standing', 'Still', 'Walking']\n",
        "\n",
        "TARGET_RATE = 50\n",
        "WINDOW_SIZE = 150\n",
        "STEP_SIZE = 50\n",
        "SAMPLE_PERIOD = 1 / TARGET_RATE"
      ]
    },
    {
      "cell_type": "markdown",
      "metadata": {
        "id": "O8CvSr9n4nmx"
      },
      "source": [
        "# Feature Extraction & Data Sampling Functions"
      ]
    },
    {
      "cell_type": "code",
      "execution_count": 15,
      "metadata": {
        "id": "lEHvs-oVD55u"
      },
      "outputs": [],
      "source": [
        "def estimate_sampling_rate(df):\n",
        "    if 'seconds_elapsed' not in df.columns:\n",
        "        raise ValueError(\"Missing 'seconds_elapsed' column in dataset.\")\n",
        "    diffs = np.diff(df['seconds_elapsed'])\n",
        "    avg_period = np.mean(diffs)\n",
        "    return 1.0 / avg_period if avg_period > 0 else TARGET_RATE\n",
        "\n",
        "def resample_signal(df, target_rate=50):\n",
        "    if 'seconds_elapsed' not in df.columns:\n",
        "        raise ValueError(\"Missing 'seconds_elapsed' column for resampling.\")\n",
        "\n",
        "    t = df['seconds_elapsed'].values\n",
        "    start, end = t.min(), t.max()\n",
        "    target_period = 1.0 / target_rate\n",
        "    new_time = np.arange(start, end, target_period)\n",
        "\n",
        "    df_interp = pd.DataFrame({'seconds_elapsed': new_time})\n",
        "    for axis in ['x', 'y', 'z']:\n",
        "        df_interp[axis] = np.interp(new_time, t, df[axis])\n",
        "    return df_interp\n",
        "\n",
        "def extract_features(df, sensor_type, window_size=WINDOW_SIZE, step_size=STEP_SIZE):\n",
        "    features = []\n",
        "    num_windows = (len(df) - window_size) // step_size + 1\n",
        "    for w in range(num_windows):\n",
        "        start = w * step_size\n",
        "        window = df.iloc[start:start + window_size]\n",
        "        row = {}\n",
        "\n",
        "        acc_x = window['x'].values\n",
        "        acc_y = window['y'].values\n",
        "        acc_z = window['z'].values\n",
        "\n",
        "        for axis, signal in zip(['x','y','z'], [acc_x, acc_y, acc_z]):\n",
        "            row[f'{sensor_type}_{axis}_rms'] = np.sqrt(np.mean(signal ** 2))\n",
        "            row[f'{sensor_type}_{axis}_var'] = np.var(signal)\n",
        "            row[f'{sensor_type}_{axis}_mean_abs'] = np.mean(np.abs(signal))\n",
        "\n",
        "            fft_vals = np.abs(rfft(signal))\n",
        "            fft_freqs = rfftfreq(window_size, d=SAMPLE_PERIOD)\n",
        "            row[f'{sensor_type}_{axis}_dom_freq'] = fft_freqs[np.argmax(fft_vals)]\n",
        "\n",
        "            row[f'{sensor_type}_{axis}_fft_energy'] = np.sum(fft_vals**2)\n",
        "            low_freq_mask = fft_freqs < 5\n",
        "            row[f'{sensor_type}_{axis}_lowfreq_energy'] = np.sum(fft_vals[low_freq_mask]**2)\n",
        "            row[f'{sensor_type}_{axis}_fft_var'] = np.var(fft_vals)\n",
        "\n",
        "        smv = np.sqrt(acc_x**2 + acc_y**2 + acc_z**2)\n",
        "        row[f'{sensor_type}_smv_rms'] = np.sqrt(np.mean(smv**2))\n",
        "        row[f'{sensor_type}_smv_var'] = np.var(smv)\n",
        "        row[f'{sensor_type}_smv_mean_abs'] = np.mean(np.abs(smv))\n",
        "\n",
        "        features.append(row)\n",
        "\n",
        "    return pd.DataFrame(features)"
      ]
    },
    {
      "cell_type": "markdown",
      "metadata": {
        "id": "EObluOJn4nmy"
      },
      "source": [
        "# Call Feature extraction & Data sampling Functions"
      ]
    },
    {
      "cell_type": "markdown",
      "metadata": {
        "id": "RCSN4EF44nmz"
      },
      "source": [
        "# HMM Model structure and Training"
      ]
    }
  ],
  "metadata": {
    "colab": {
      "provenance": [],
      "include_colab_link": true
    },
    "kernelspec": {
      "display_name": ".venv",
      "language": "python",
      "name": "python3"
    },
    "language_info": {
      "codemirror_mode": {
        "name": "ipython",
        "version": 3
      },
      "file_extension": ".py",
      "mimetype": "text/x-python",
      "name": "python",
      "nbconvert_exporter": "python",
      "pygments_lexer": "ipython3",
      "version": "3.13.1"
    }
  },
  "nbformat": 4,
  "nbformat_minor": 0
}